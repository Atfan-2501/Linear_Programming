{
  "nbformat": 4,
  "nbformat_minor": 0,
  "metadata": {
    "colab": {
      "provenance": []
    },
    "kernelspec": {
      "name": "python3",
      "display_name": "Python 3"
    },
    "language_info": {
      "name": "python"
    }
  },
  "cells": [
    {
      "cell_type": "markdown",
      "source": [
        "Fixed Costs and Linking of Variables.\n",
        "\n",
        "Florida Home HealthCare is planning to planning to build a number of new facilities in Central Florida and has divided the map of the area into  regions. They want to locate the facilities such that all seven regions can be conviniently served by one facilty. Five possible sites are possible for constructing the new facilities. The region that can be served by the facilities in each of the sites are present by a number underneath the heading 'Possible Building sites' in the table below. Th number itself represents the cost of serving the customer from the given region by a professional stationed at the given facility. The table also included the estimiated demand of each region and for each potential facility, how much it would cost to build(1000s) and what its capacity would be. (Demands and Capacitied are estimated over an approximate planning horizon)\n",
        "\n",
        "|           |                | Possible Building Sites |           |        |             |          |\n",
        "|:---------:|:--------------:|:-----------------------:|:---------:|:------:|:-----------:|:--------:|\n",
        "| Region iD | Region Demands |         Sanford         | Altamonte | Apopka | Casselberry | Maitland |\n",
        "|     1     |       300      |           100           |           |   300  |             |          |\n",
        "|     2     |       200      |           120           |    250    |        |     200     |    250   |\n",
        "|     3     |       350      |                         |    350    |        |     150     |          |\n",
        "|     4     |       450      |                         |           |   300  |             |    100   |\n",
        "|     5     |       250      |           200           |    130    |        |             |          |\n",
        "|     6     |       100      |                         |           |   180  |             |    110   |\n",
        "|     7     |       150      |                         |           |        |     270     |    320   |\n",
        "|           |  Building Cost |           450           |    650    |   550  |     500     |    525   |\n",
        "|           |    Capacity    |           400           |    425    |   325  |     475     |    575   |\n",
        "|           |                |                         |           |        |             |          |"
      ],
      "metadata": {
        "id": "NDCoNahG0dnd"
      }
    },
    {
      "cell_type": "code",
      "execution_count": 2,
      "metadata": {
        "id": "sB0xTzLykwwq",
        "colab": {
          "base_uri": "https://localhost:8080/"
        },
        "outputId": "dabc44e0-0d50-416e-d1c0-fad1eed8c447"
      },
      "outputs": [
        {
          "output_type": "stream",
          "name": "stdout",
          "text": [
            "Looking in indexes: https://pypi.org/simple, https://us-python.pkg.dev/colab-wheels/public/simple/\n",
            "Collecting pulp\n",
            "  Downloading PuLP-2.7.0-py3-none-any.whl (14.3 MB)\n",
            "\u001b[2K     \u001b[90m━━━━━━━━━━━━━━━━━━━━━━━━━━━━━━━━━━━━━━━━\u001b[0m \u001b[32m14.3/14.3 MB\u001b[0m \u001b[31m59.1 MB/s\u001b[0m eta \u001b[36m0:00:00\u001b[0m\n",
            "\u001b[?25hInstalling collected packages: pulp\n",
            "Successfully installed pulp-2.7.0\n"
          ]
        }
      ],
      "source": [
        "pip install pulp"
      ]
    },
    {
      "cell_type": "code",
      "source": [
        "from pulp import *"
      ],
      "metadata": {
        "id": "t0pb_nhACWNZ"
      },
      "execution_count": 3,
      "outputs": []
    },
    {
      "cell_type": "markdown",
      "source": [
        "Creating model instance"
      ],
      "metadata": {
        "id": "E-76FOmG1jCQ"
      }
    },
    {
      "cell_type": "code",
      "source": [
        "model = LpProblem('Facility Location Optimization', LpMinimize)"
      ],
      "metadata": {
        "colab": {
          "base_uri": "https://localhost:8080/"
        },
        "id": "p8gXouAXB47Y",
        "outputId": "0dab6678-fc49-49e8-801c-72df75dcd4a1"
      },
      "execution_count": 4,
      "outputs": [
        {
          "output_type": "stream",
          "name": "stderr",
          "text": [
            "/usr/local/lib/python3.8/dist-packages/pulp/pulp.py:1352: UserWarning: Spaces are not permitted in the name. Converted to '_'\n",
            "  warnings.warn(\"Spaces are not permitted in the name. Converted to '_'\")\n"
          ]
        }
      ]
    },
    {
      "cell_type": "markdown",
      "source": [
        "Creating Variable for facility decision (Binary)"
      ],
      "metadata": {
        "id": "oa3NJL4_jnUJ"
      }
    },
    {
      "cell_type": "code",
      "source": [
        "locations = ['Sanford', 'Altamonte', 'Apopka', 'Casselberry', 'MaitLand']\n",
        "region = [1, 2, 3, 4, 5, 6, 7]"
      ],
      "metadata": {
        "id": "x0DKwqulYzdR"
      },
      "execution_count": 5,
      "outputs": []
    },
    {
      "cell_type": "code",
      "source": [
        "X= LpVariable.dicts(\"Facilty\", locations, 0, 1, cat= \"Integer\")\n",
        "X"
      ],
      "metadata": {
        "colab": {
          "base_uri": "https://localhost:8080/"
        },
        "id": "VnTTzT9sGvfm",
        "outputId": "3fd2533d-7b7b-4675-86c1-3b9ab5c7110e"
      },
      "execution_count": 6,
      "outputs": [
        {
          "output_type": "execute_result",
          "data": {
            "text/plain": [
              "{'Sanford': Facilty_Sanford,\n",
              " 'Altamonte': Facilty_Altamonte,\n",
              " 'Apopka': Facilty_Apopka,\n",
              " 'Casselberry': Facilty_Casselberry,\n",
              " 'MaitLand': Facilty_MaitLand}"
            ]
          },
          "metadata": {},
          "execution_count": 6
        }
      ]
    },
    {
      "cell_type": "markdown",
      "source": [
        "Creating variable for allocation"
      ],
      "metadata": {
        "id": "Cv9QCblXjwbL"
      }
    },
    {
      "cell_type": "code",
      "source": [
        "allocation_keys = [(r, l) for r in region for l in locations]"
      ],
      "metadata": {
        "id": "y6_ZQVwK6xKY"
      },
      "execution_count": 7,
      "outputs": []
    },
    {
      "cell_type": "code",
      "source": [
        "Y = LpVariable.dicts(\"allocation\", allocation_keys, 0, None, cat = 'Integer')\n",
        "Y"
      ],
      "metadata": {
        "colab": {
          "base_uri": "https://localhost:8080/"
        },
        "id": "21VP_PXT7FY2",
        "outputId": "b03ba015-92fc-42a1-b8be-6a8993339640"
      },
      "execution_count": 8,
      "outputs": [
        {
          "output_type": "execute_result",
          "data": {
            "text/plain": [
              "{(1, 'Sanford'): allocation_(1,_'Sanford'),\n",
              " (1, 'Altamonte'): allocation_(1,_'Altamonte'),\n",
              " (1, 'Apopka'): allocation_(1,_'Apopka'),\n",
              " (1, 'Casselberry'): allocation_(1,_'Casselberry'),\n",
              " (1, 'MaitLand'): allocation_(1,_'MaitLand'),\n",
              " (2, 'Sanford'): allocation_(2,_'Sanford'),\n",
              " (2, 'Altamonte'): allocation_(2,_'Altamonte'),\n",
              " (2, 'Apopka'): allocation_(2,_'Apopka'),\n",
              " (2, 'Casselberry'): allocation_(2,_'Casselberry'),\n",
              " (2, 'MaitLand'): allocation_(2,_'MaitLand'),\n",
              " (3, 'Sanford'): allocation_(3,_'Sanford'),\n",
              " (3, 'Altamonte'): allocation_(3,_'Altamonte'),\n",
              " (3, 'Apopka'): allocation_(3,_'Apopka'),\n",
              " (3, 'Casselberry'): allocation_(3,_'Casselberry'),\n",
              " (3, 'MaitLand'): allocation_(3,_'MaitLand'),\n",
              " (4, 'Sanford'): allocation_(4,_'Sanford'),\n",
              " (4, 'Altamonte'): allocation_(4,_'Altamonte'),\n",
              " (4, 'Apopka'): allocation_(4,_'Apopka'),\n",
              " (4, 'Casselberry'): allocation_(4,_'Casselberry'),\n",
              " (4, 'MaitLand'): allocation_(4,_'MaitLand'),\n",
              " (5, 'Sanford'): allocation_(5,_'Sanford'),\n",
              " (5, 'Altamonte'): allocation_(5,_'Altamonte'),\n",
              " (5, 'Apopka'): allocation_(5,_'Apopka'),\n",
              " (5, 'Casselberry'): allocation_(5,_'Casselberry'),\n",
              " (5, 'MaitLand'): allocation_(5,_'MaitLand'),\n",
              " (6, 'Sanford'): allocation_(6,_'Sanford'),\n",
              " (6, 'Altamonte'): allocation_(6,_'Altamonte'),\n",
              " (6, 'Apopka'): allocation_(6,_'Apopka'),\n",
              " (6, 'Casselberry'): allocation_(6,_'Casselberry'),\n",
              " (6, 'MaitLand'): allocation_(6,_'MaitLand'),\n",
              " (7, 'Sanford'): allocation_(7,_'Sanford'),\n",
              " (7, 'Altamonte'): allocation_(7,_'Altamonte'),\n",
              " (7, 'Apopka'): allocation_(7,_'Apopka'),\n",
              " (7, 'Casselberry'): allocation_(7,_'Casselberry'),\n",
              " (7, 'MaitLand'): allocation_(7,_'MaitLand')}"
            ]
          },
          "metadata": {},
          "execution_count": 8
        }
      ]
    },
    {
      "cell_type": "markdown",
      "source": [
        "Defining variables required for objective function."
      ],
      "metadata": {
        "id": "5dw49gSU2YRT"
      }
    },
    {
      "cell_type": "code",
      "source": [
        "allowed_facilities = [1, 0, 1, 0, 0,\n",
        "                      1, 1, 0, 1, 1,\n",
        "                      0, 1, 0, 1, 0,\n",
        "                      0, 0, 1, 0, 1,\n",
        "                      1, 1, 0, 0, 0,\n",
        "                      0, 0, 1, 0, 1,\n",
        "                      0, 0, 0, 1, 1]\n",
        "allocation = dict(zip(allocation_keys, allowed_facilities))"
      ],
      "metadata": {
        "id": "hV80r5fuYTsj"
      },
      "execution_count": 9,
      "outputs": []
    },
    {
      "cell_type": "code",
      "source": [
        "cost_values =  [100, 0, 300, 0, 0,\n",
        "                120, 250, 0, 200, 250,\n",
        "                0, 350, 0, 150, 0,\n",
        "                0, 0, 300, 0, 100,\n",
        "                200, 130, 0, 0, 0,\n",
        "                0, 0, 180, 0, 110,\n",
        "                0, 0, 0, 270, 320]\n",
        "cost = dict(zip(allocation_keys, cost_values))"
      ],
      "metadata": {
        "id": "P26EyzRs0v55"
      },
      "execution_count": 10,
      "outputs": []
    },
    {
      "cell_type": "code",
      "source": [
        "facility_cost = [450000, 650000, 550000, 500000, 525000]\n",
        "facility = dict(zip(locations, facility_cost))"
      ],
      "metadata": {
        "id": "tUPbS5yr75uE"
      },
      "execution_count": 11,
      "outputs": []
    },
    {
      "cell_type": "markdown",
      "source": [
        "OBJECTIVE"
      ],
      "metadata": {
        "id": "N-S0jUkZ7xSO"
      }
    },
    {
      "cell_type": "code",
      "source": [
        "model+= lpSum(X[(l)]*facility[(l)] for l in locations) + lpSum(cost[(r, l)]*Y[(r, l)] for r in region for l in locations)"
      ],
      "metadata": {
        "id": "Fkmgar8o5zaa"
      },
      "execution_count": 12,
      "outputs": []
    },
    {
      "cell_type": "markdown",
      "source": [
        "CONSTRAINTS"
      ],
      "metadata": {
        "id": "nGYDsrX0_shM"
      }
    },
    {
      "cell_type": "code",
      "source": [
        "demands = [300, 200, 350, 450, 250, 100, 150]\n",
        "capacity = [400, 425, 325, 475, 575]"
      ],
      "metadata": {
        "id": "P-b9FnbC8XXD"
      },
      "execution_count": 13,
      "outputs": []
    },
    {
      "cell_type": "code",
      "source": [
        "facility_capacity = dict(zip(locations,  capacity))\n",
        "facility_capacity"
      ],
      "metadata": {
        "colab": {
          "base_uri": "https://localhost:8080/"
        },
        "id": "sofgVKaHBAg4",
        "outputId": "d3c9668a-18b2-4c8f-868d-fc47a404d6b8"
      },
      "execution_count": 14,
      "outputs": [
        {
          "output_type": "execute_result",
          "data": {
            "text/plain": [
              "{'Sanford': 400,\n",
              " 'Altamonte': 425,\n",
              " 'Apopka': 325,\n",
              " 'Casselberry': 475,\n",
              " 'MaitLand': 575}"
            ]
          },
          "metadata": {},
          "execution_count": 14
        }
      ]
    },
    {
      "cell_type": "code",
      "source": [
        "regional_demands = dict(zip(region, demands))\n",
        "regional_demands"
      ],
      "metadata": {
        "colab": {
          "base_uri": "https://localhost:8080/"
        },
        "id": "CwzqBP5iBD9l",
        "outputId": "4f019abf-51d5-4d30-8702-8421815942fa"
      },
      "execution_count": 15,
      "outputs": [
        {
          "output_type": "execute_result",
          "data": {
            "text/plain": [
              "{1: 300, 2: 200, 3: 350, 4: 450, 5: 250, 6: 100, 7: 150}"
            ]
          },
          "metadata": {},
          "execution_count": 15
        }
      ]
    },
    {
      "cell_type": "code",
      "source": [
        "for l in locations:\n",
        "  model += lpSum((Y[(r, l)])*(allocation[(r, l)]) for r in region) <= facility_capacity[(l)] * X[l]"
      ],
      "metadata": {
        "id": "MecI1N1BAww7"
      },
      "execution_count": 16,
      "outputs": []
    },
    {
      "cell_type": "code",
      "source": [
        "for r in region:\n",
        "  model += lpSum((Y[(r, l)])*(allocation[(r, l)]) for l in locations) == regional_demands[(r)]"
      ],
      "metadata": {
        "id": "WKne1HFrEjwj"
      },
      "execution_count": 17,
      "outputs": []
    },
    {
      "cell_type": "code",
      "source": [
        "model.solve"
      ],
      "metadata": {
        "colab": {
          "base_uri": "https://localhost:8080/"
        },
        "id": "Q8wXkS6aH8x9",
        "outputId": "9f0895e3-2223-430b-b509-bdb07480c295"
      },
      "execution_count": 18,
      "outputs": [
        {
          "output_type": "execute_result",
          "data": {
            "text/plain": [
              "<bound method LpProblem.solve of Facility_Location_Optimization:\n",
              "MINIMIZE\n",
              "650000*Facilty_Altamonte + 550000*Facilty_Apopka + 500000*Facilty_Casselberry + 525000*Facilty_MaitLand + 450000*Facilty_Sanford + 300*allocation_(1,_'Apopka') + 100*allocation_(1,_'Sanford') + 250*allocation_(2,_'Altamonte') + 200*allocation_(2,_'Casselberry') + 250*allocation_(2,_'MaitLand') + 120*allocation_(2,_'Sanford') + 350*allocation_(3,_'Altamonte') + 150*allocation_(3,_'Casselberry') + 300*allocation_(4,_'Apopka') + 100*allocation_(4,_'MaitLand') + 130*allocation_(5,_'Altamonte') + 200*allocation_(5,_'Sanford') + 180*allocation_(6,_'Apopka') + 110*allocation_(6,_'MaitLand') + 270*allocation_(7,_'Casselberry') + 320*allocation_(7,_'MaitLand') + 0\n",
              "SUBJECT TO\n",
              "_C1: - 400 Facilty_Sanford + allocation_(1,_'Sanford')\n",
              " + allocation_(2,_'Sanford') + allocation_(5,_'Sanford') <= 0\n",
              "\n",
              "_C2: - 425 Facilty_Altamonte + allocation_(2,_'Altamonte')\n",
              " + allocation_(3,_'Altamonte') + allocation_(5,_'Altamonte') <= 0\n",
              "\n",
              "_C3: - 325 Facilty_Apopka + allocation_(1,_'Apopka')\n",
              " + allocation_(4,_'Apopka') + allocation_(6,_'Apopka') <= 0\n",
              "\n",
              "_C4: - 475 Facilty_Casselberry + allocation_(2,_'Casselberry')\n",
              " + allocation_(3,_'Casselberry') + allocation_(7,_'Casselberry') <= 0\n",
              "\n",
              "_C5: - 575 Facilty_MaitLand + allocation_(2,_'MaitLand')\n",
              " + allocation_(4,_'MaitLand') + allocation_(6,_'MaitLand')\n",
              " + allocation_(7,_'MaitLand') <= 0\n",
              "\n",
              "_C6: allocation_(1,_'Apopka') + allocation_(1,_'Sanford') = 300\n",
              "\n",
              "_C7: allocation_(2,_'Altamonte') + allocation_(2,_'Casselberry')\n",
              " + allocation_(2,_'MaitLand') + allocation_(2,_'Sanford') = 200\n",
              "\n",
              "_C8: allocation_(3,_'Altamonte') + allocation_(3,_'Casselberry') = 350\n",
              "\n",
              "_C9: allocation_(4,_'Apopka') + allocation_(4,_'MaitLand') = 450\n",
              "\n",
              "_C10: allocation_(5,_'Altamonte') + allocation_(5,_'Sanford') = 250\n",
              "\n",
              "_C11: allocation_(6,_'Apopka') + allocation_(6,_'MaitLand') = 100\n",
              "\n",
              "_C12: allocation_(7,_'Casselberry') + allocation_(7,_'MaitLand') = 150\n",
              "\n",
              "VARIABLES\n",
              "0 <= Facilty_Altamonte <= 1 Integer\n",
              "0 <= Facilty_Apopka <= 1 Integer\n",
              "0 <= Facilty_Casselberry <= 1 Integer\n",
              "0 <= Facilty_MaitLand <= 1 Integer\n",
              "0 <= Facilty_Sanford <= 1 Integer\n",
              "0 <= allocation_(1,_'Apopka') Integer\n",
              "0 <= allocation_(1,_'Sanford') Integer\n",
              "0 <= allocation_(2,_'Altamonte') Integer\n",
              "0 <= allocation_(2,_'Casselberry') Integer\n",
              "0 <= allocation_(2,_'MaitLand') Integer\n",
              "0 <= allocation_(2,_'Sanford') Integer\n",
              "0 <= allocation_(3,_'Altamonte') Integer\n",
              "0 <= allocation_(3,_'Casselberry') Integer\n",
              "0 <= allocation_(4,_'Apopka') Integer\n",
              "0 <= allocation_(4,_'MaitLand') Integer\n",
              "0 <= allocation_(5,_'Altamonte') Integer\n",
              "0 <= allocation_(5,_'Sanford') Integer\n",
              "0 <= allocation_(6,_'Apopka') Integer\n",
              "0 <= allocation_(6,_'MaitLand') Integer\n",
              "0 <= allocation_(7,_'Casselberry') Integer\n",
              "0 <= allocation_(7,_'MaitLand') Integer\n",
              ">"
            ]
          },
          "metadata": {},
          "execution_count": 18
        }
      ]
    },
    {
      "cell_type": "code",
      "source": [
        "model.solve()"
      ],
      "metadata": {
        "colab": {
          "base_uri": "https://localhost:8080/"
        },
        "id": "jGCSmaE_HQcq",
        "outputId": "7888809a-0422-4514-aa9e-b10e329f5ba7"
      },
      "execution_count": 19,
      "outputs": [
        {
          "output_type": "execute_result",
          "data": {
            "text/plain": [
              "1"
            ]
          },
          "metadata": {},
          "execution_count": 19
        }
      ]
    },
    {
      "cell_type": "code",
      "source": [
        "value(model.objective)"
      ],
      "metadata": {
        "colab": {
          "base_uri": "https://localhost:8080/"
        },
        "id": "XUepDhF7HTVV",
        "outputId": "5672c34a-fe21-44ed-cce8-7743ed68148e"
      },
      "execution_count": 20,
      "outputs": [
        {
          "output_type": "execute_result",
          "data": {
            "text/plain": [
              "2374750.0"
            ]
          },
          "metadata": {},
          "execution_count": 20
        }
      ]
    },
    {
      "cell_type": "code",
      "source": [
        "for i in X: \n",
        "    print('{} shipping {}'.format(i,X[i].varValue))"
      ],
      "metadata": {
        "colab": {
          "base_uri": "https://localhost:8080/"
        },
        "id": "aOkUPaLyZXBj",
        "outputId": "34a7f9de-e844-4d2d-a7d7-5f52bd217841"
      },
      "execution_count": 21,
      "outputs": [
        {
          "output_type": "stream",
          "name": "stdout",
          "text": [
            "Sanford shipping 1.0\n",
            "Altamonte shipping 1.0\n",
            "Apopka shipping 0.0\n",
            "Casselberry shipping 1.0\n",
            "MaitLand shipping 1.0\n"
          ]
        }
      ]
    },
    {
      "cell_type": "code",
      "source": [
        "for i in Y: \n",
        "    print('{} shipping {}'.format(i,Y[i].varValue))"
      ],
      "metadata": {
        "colab": {
          "base_uri": "https://localhost:8080/"
        },
        "id": "a8SKdPPoZa6R",
        "outputId": "d3817476-fe4a-4064-8a94-609625eeb1d0"
      },
      "execution_count": 22,
      "outputs": [
        {
          "output_type": "stream",
          "name": "stdout",
          "text": [
            "(1, 'Sanford') shipping 300.0\n",
            "(1, 'Altamonte') shipping None\n",
            "(1, 'Apopka') shipping 0.0\n",
            "(1, 'Casselberry') shipping None\n",
            "(1, 'MaitLand') shipping None\n",
            "(2, 'Sanford') shipping 100.0\n",
            "(2, 'Altamonte') shipping 100.0\n",
            "(2, 'Apopka') shipping None\n",
            "(2, 'Casselberry') shipping 0.0\n",
            "(2, 'MaitLand') shipping 0.0\n",
            "(3, 'Sanford') shipping None\n",
            "(3, 'Altamonte') shipping 0.0\n",
            "(3, 'Apopka') shipping None\n",
            "(3, 'Casselberry') shipping 350.0\n",
            "(3, 'MaitLand') shipping None\n",
            "(4, 'Sanford') shipping None\n",
            "(4, 'Altamonte') shipping None\n",
            "(4, 'Apopka') shipping 0.0\n",
            "(4, 'Casselberry') shipping None\n",
            "(4, 'MaitLand') shipping 450.0\n",
            "(5, 'Sanford') shipping 0.0\n",
            "(5, 'Altamonte') shipping 250.0\n",
            "(5, 'Apopka') shipping None\n",
            "(5, 'Casselberry') shipping None\n",
            "(5, 'MaitLand') shipping None\n",
            "(6, 'Sanford') shipping None\n",
            "(6, 'Altamonte') shipping None\n",
            "(6, 'Apopka') shipping 0.0\n",
            "(6, 'Casselberry') shipping None\n",
            "(6, 'MaitLand') shipping 100.0\n",
            "(7, 'Sanford') shipping None\n",
            "(7, 'Altamonte') shipping None\n",
            "(7, 'Apopka') shipping None\n",
            "(7, 'Casselberry') shipping 125.0\n",
            "(7, 'MaitLand') shipping 25.0\n"
          ]
        }
      ]
    }
  ]
}