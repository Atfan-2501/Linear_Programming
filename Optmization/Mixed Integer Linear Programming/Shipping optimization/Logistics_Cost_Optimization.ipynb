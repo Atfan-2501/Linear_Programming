{
  "nbformat": 4,
  "nbformat_minor": 0,
  "metadata": {
    "colab": {
      "provenance": []
    },
    "kernelspec": {
      "name": "python3",
      "display_name": "Python 3"
    },
    "language_info": {
      "name": "python"
    }
  },
  "cells": [
    {
      "cell_type": "markdown",
      "source": [
        "Case: Linear Programming for minimizing transportation costs under the given constraints                                   \n",
        "\n",
        "A furniture manufacturer needs to fulfill demands of three countries: Australia, Sweden and Brazil. He has two manufacturing units to fulfil the demands. There are 3 SKUs: Chairs, tables and beds.\n",
        "\n",
        "Below is the table showing the transportation cost to each destination for each product.\n",
        "\n",
        "|           |        | Factory I |     |        | Factory II |     |\n",
        "|:---------:|:------:|:---------:|:---:|:------:|:----------:|:---:|\n",
        "|           | Chairs |   Tables  | Bed | Chairs |   Tables   | Bed |\n",
        "| Australia |   50   |     60    |  70 |   80   |     90     |  90 |\n",
        "|   Sweden  |   80   |     90    |  90 |   50   |     60     |  70 |\n",
        "|   Brazil  |   50   |     60    |  70 |   80   |     90     |  90 |\n",
        "\n",
        "\n",
        "Below is the demand of each product in each country.\n",
        "\n",
        "|           | Chairs | Tables | Bed |\n",
        "|:---------:|:------:|:------:|:---:|\n",
        "| Australia |   90   |   65   | 700 |\n",
        "|   Sweden  |   120  |   450  |  40 |\n",
        "|   Brazil  |   78   |   52   | 500 |\n",
        "\n",
        "\n",
        "The capacity of each facility is as follows.\n",
        "\n",
        "| Factory I  | 1500 |\n",
        "|------------|------|\n",
        "| Factory II | 2500 |\n",
        "\n"
      ],
      "metadata": {
        "id": "UEAJDWj-dBrP"
      }
    },
    {
      "cell_type": "code",
      "source": [
        "pip install pulp"
      ],
      "metadata": {
        "colab": {
          "base_uri": "https://localhost:8080/"
        },
        "id": "uExjUutFbavj",
        "outputId": "d57dcb8a-bb52-4621-e889-b6dbf94b38f4"
      },
      "execution_count": 1,
      "outputs": [
        {
          "output_type": "stream",
          "name": "stdout",
          "text": [
            "Looking in indexes: https://pypi.org/simple, https://us-python.pkg.dev/colab-wheels/public/simple/\n",
            "Collecting pulp\n",
            "  Downloading PuLP-2.7.0-py3-none-any.whl (14.3 MB)\n",
            "\u001b[2K     \u001b[90m━━━━━━━━━━━━━━━━━━━━━━━━━━━━━━━━━━━━━━━━\u001b[0m \u001b[32m14.3/14.3 MB\u001b[0m \u001b[31m43.2 MB/s\u001b[0m eta \u001b[36m0:00:00\u001b[0m\n",
            "\u001b[?25hInstalling collected packages: pulp\n",
            "Successfully installed pulp-2.7.0\n"
          ]
        }
      ]
    },
    {
      "cell_type": "code",
      "source": [
        "from pulp import *"
      ],
      "metadata": {
        "id": "JznpWZ2AbXjy"
      },
      "execution_count": 2,
      "outputs": []
    },
    {
      "cell_type": "markdown",
      "source": [
        "Creating model instance"
      ],
      "metadata": {
        "id": "wrf9NCDCKXLU"
      }
    },
    {
      "cell_type": "code",
      "source": [
        "model = LpProblem(\"Shipping\", LpMinimize)"
      ],
      "metadata": {
        "id": "aFFpfWSadWAw"
      },
      "execution_count": 3,
      "outputs": []
    },
    {
      "cell_type": "code",
      "execution_count": 4,
      "metadata": {
        "id": "Leyjm6QmlA3u"
      },
      "outputs": [],
      "source": [
        "customers = ['Australia', 'Sweden', 'Brazil']\n",
        "factory = ['Factory I', 'Factory II']\n",
        "products = ['Chair', 'Tables', 'Bed']"
      ]
    },
    {
      "cell_type": "markdown",
      "source": [
        "  Creating structure of variables"
      ],
      "metadata": {
        "id": "1ltoN_mCXjnP"
      }
    },
    {
      "cell_type": "code",
      "source": [
        "keys = [(f,p,c) for f in factory for p in products for c in customers]\n",
        "keys"
      ],
      "metadata": {
        "colab": {
          "base_uri": "https://localhost:8080/"
        },
        "id": "ht4iQFqeM0tP",
        "outputId": "9f4ddb77-7bca-4a9d-e2cd-bf75f9d70351"
      },
      "execution_count": 5,
      "outputs": [
        {
          "output_type": "execute_result",
          "data": {
            "text/plain": [
              "[('Factory I', 'Chair', 'Australia'),\n",
              " ('Factory I', 'Chair', 'Sweden'),\n",
              " ('Factory I', 'Chair', 'Brazil'),\n",
              " ('Factory I', 'Tables', 'Australia'),\n",
              " ('Factory I', 'Tables', 'Sweden'),\n",
              " ('Factory I', 'Tables', 'Brazil'),\n",
              " ('Factory I', 'Bed', 'Australia'),\n",
              " ('Factory I', 'Bed', 'Sweden'),\n",
              " ('Factory I', 'Bed', 'Brazil'),\n",
              " ('Factory II', 'Chair', 'Australia'),\n",
              " ('Factory II', 'Chair', 'Sweden'),\n",
              " ('Factory II', 'Chair', 'Brazil'),\n",
              " ('Factory II', 'Tables', 'Australia'),\n",
              " ('Factory II', 'Tables', 'Sweden'),\n",
              " ('Factory II', 'Tables', 'Brazil'),\n",
              " ('Factory II', 'Bed', 'Australia'),\n",
              " ('Factory II', 'Bed', 'Sweden'),\n",
              " ('Factory II', 'Bed', 'Brazil')]"
            ]
          },
          "metadata": {},
          "execution_count": 5
        }
      ]
    },
    {
      "cell_type": "code",
      "source": [
        "var = LpVariable.dicts('shipment', keys, 0,None,cat='Integer')"
      ],
      "metadata": {
        "id": "GUb0WBWTRO9R"
      },
      "execution_count": 6,
      "outputs": []
    },
    {
      "cell_type": "markdown",
      "source": [
        "Mapping the cost information to the keys"
      ],
      "metadata": {
        "id": "Xs5eoQrYX9lH"
      }
    },
    {
      "cell_type": "code",
      "source": [
        "costs_value = [50,80,50,\n",
        "        60,90,60,\n",
        "        70,90,70,\n",
        "        80,50,80,\n",
        "        90,60,90,\n",
        "        90,70,90]"
      ],
      "metadata": {
        "id": "M-KQNmpOOfkg"
      },
      "execution_count": 7,
      "outputs": []
    },
    {
      "cell_type": "code",
      "source": [
        "costs = dict(zip(keys,costs_value))\n",
        "costs"
      ],
      "metadata": {
        "colab": {
          "base_uri": "https://localhost:8080/"
        },
        "id": "a8-K1NvnOyaH",
        "outputId": "a140f834-6b0d-48db-c8bd-bf5c6f8aa2d9"
      },
      "execution_count": 8,
      "outputs": [
        {
          "output_type": "execute_result",
          "data": {
            "text/plain": [
              "{('Factory I', 'Chair', 'Australia'): 50,\n",
              " ('Factory I', 'Chair', 'Sweden'): 80,\n",
              " ('Factory I', 'Chair', 'Brazil'): 50,\n",
              " ('Factory I', 'Tables', 'Australia'): 60,\n",
              " ('Factory I', 'Tables', 'Sweden'): 90,\n",
              " ('Factory I', 'Tables', 'Brazil'): 60,\n",
              " ('Factory I', 'Bed', 'Australia'): 70,\n",
              " ('Factory I', 'Bed', 'Sweden'): 90,\n",
              " ('Factory I', 'Bed', 'Brazil'): 70,\n",
              " ('Factory II', 'Chair', 'Australia'): 80,\n",
              " ('Factory II', 'Chair', 'Sweden'): 50,\n",
              " ('Factory II', 'Chair', 'Brazil'): 80,\n",
              " ('Factory II', 'Tables', 'Australia'): 90,\n",
              " ('Factory II', 'Tables', 'Sweden'): 60,\n",
              " ('Factory II', 'Tables', 'Brazil'): 90,\n",
              " ('Factory II', 'Bed', 'Australia'): 90,\n",
              " ('Factory II', 'Bed', 'Sweden'): 70,\n",
              " ('Factory II', 'Bed', 'Brazil'): 90}"
            ]
          },
          "metadata": {},
          "execution_count": 8
        }
      ]
    },
    {
      "cell_type": "markdown",
      "source": [
        "Mapping the demand info to demand keys"
      ],
      "metadata": {
        "id": "7i2ONqdLYJ6Y"
      }
    },
    {
      "cell_type": "code",
      "source": [
        "demand_keys = [(p,c) for c in customers for p in products]\n",
        "demand_keys"
      ],
      "metadata": {
        "colab": {
          "base_uri": "https://localhost:8080/"
        },
        "id": "DKLDU2TEO6zr",
        "outputId": "6e8f4214-bb14-49ba-88a1-94ff4af87513"
      },
      "execution_count": 9,
      "outputs": [
        {
          "output_type": "execute_result",
          "data": {
            "text/plain": [
              "[('Chair', 'Australia'),\n",
              " ('Tables', 'Australia'),\n",
              " ('Bed', 'Australia'),\n",
              " ('Chair', 'Sweden'),\n",
              " ('Tables', 'Sweden'),\n",
              " ('Bed', 'Sweden'),\n",
              " ('Chair', 'Brazil'),\n",
              " ('Tables', 'Brazil'),\n",
              " ('Bed', 'Brazil')]"
            ]
          },
          "metadata": {},
          "execution_count": 9
        }
      ]
    },
    {
      "cell_type": "code",
      "source": [
        "demand_values = [90,65,700,\n",
        "               120,450,40,\n",
        "               78,52,500]"
      ],
      "metadata": {
        "id": "dXpujyVtPcjq"
      },
      "execution_count": 10,
      "outputs": []
    },
    {
      "cell_type": "code",
      "source": [
        "demand = dict(zip(demand_keys,demand_values))\n",
        "demand"
      ],
      "metadata": {
        "colab": {
          "base_uri": "https://localhost:8080/"
        },
        "id": "uDHe8CTSP9tG",
        "outputId": "c1f9d0dc-3e73-4b42-f001-f95a9530ca76"
      },
      "execution_count": 11,
      "outputs": [
        {
          "output_type": "execute_result",
          "data": {
            "text/plain": [
              "{('Chair', 'Australia'): 90,\n",
              " ('Tables', 'Australia'): 65,\n",
              " ('Bed', 'Australia'): 700,\n",
              " ('Chair', 'Sweden'): 120,\n",
              " ('Tables', 'Sweden'): 450,\n",
              " ('Bed', 'Sweden'): 40,\n",
              " ('Chair', 'Brazil'): 78,\n",
              " ('Tables', 'Brazil'): 52,\n",
              " ('Bed', 'Brazil'): 500}"
            ]
          },
          "metadata": {},
          "execution_count": 11
        }
      ]
    },
    {
      "cell_type": "markdown",
      "source": [
        "OBJECTIVE FUNCTION"
      ],
      "metadata": {
        "id": "8qjxLAZQd1oh"
      }
    },
    {
      "cell_type": "code",
      "source": [
        "model+= lpSum(var[(f, p, c)]*costs[(f, p, c)] for f in factory for p in products for c in customers)"
      ],
      "metadata": {
        "id": "u9MAsBeHQDAp"
      },
      "execution_count": 12,
      "outputs": []
    },
    {
      "cell_type": "markdown",
      "source": [
        "CONSTRAINTS"
      ],
      "metadata": {
        "id": "XNKtDaCad4AH"
      }
    },
    {
      "cell_type": "code",
      "source": [
        "model += lpSum(var[('Factory I', p, c)] for p in products for c in customers) <= 1500\n",
        "model += lpSum(var[('Factory II', p, c)] for p in products for c in customers) <= 2500"
      ],
      "metadata": {
        "id": "TnyL79lLdgCS"
      },
      "execution_count": 13,
      "outputs": []
    },
    {
      "cell_type": "code",
      "source": [
        "for c in customers:\n",
        "  for p in products:\n",
        "    model += var[('Factory I', p, c)] + var[('Factory II', p, c)]  >= demand[(p, c)]"
      ],
      "metadata": {
        "id": "KNSa_GISfGHU"
      },
      "execution_count": 14,
      "outputs": []
    },
    {
      "cell_type": "code",
      "source": [
        "model.solve"
      ],
      "metadata": {
        "colab": {
          "base_uri": "https://localhost:8080/"
        },
        "id": "KV-Tg8I3YTj-",
        "outputId": "eebbfddb-3c84-4a93-d71c-04969aa6c735"
      },
      "execution_count": 15,
      "outputs": [
        {
          "output_type": "execute_result",
          "data": {
            "text/plain": [
              "<bound method LpProblem.solve of Shipping:\n",
              "MINIMIZE\n",
              "70*shipment_('Factory_I',_'Bed',_'Australia') + 70*shipment_('Factory_I',_'Bed',_'Brazil') + 90*shipment_('Factory_I',_'Bed',_'Sweden') + 50*shipment_('Factory_I',_'Chair',_'Australia') + 50*shipment_('Factory_I',_'Chair',_'Brazil') + 80*shipment_('Factory_I',_'Chair',_'Sweden') + 60*shipment_('Factory_I',_'Tables',_'Australia') + 60*shipment_('Factory_I',_'Tables',_'Brazil') + 90*shipment_('Factory_I',_'Tables',_'Sweden') + 90*shipment_('Factory_II',_'Bed',_'Australia') + 90*shipment_('Factory_II',_'Bed',_'Brazil') + 70*shipment_('Factory_II',_'Bed',_'Sweden') + 80*shipment_('Factory_II',_'Chair',_'Australia') + 80*shipment_('Factory_II',_'Chair',_'Brazil') + 50*shipment_('Factory_II',_'Chair',_'Sweden') + 90*shipment_('Factory_II',_'Tables',_'Australia') + 90*shipment_('Factory_II',_'Tables',_'Brazil') + 60*shipment_('Factory_II',_'Tables',_'Sweden') + 0\n",
              "SUBJECT TO\n",
              "_C1: shipment_('Factory_I',_'Bed',_'Australia')\n",
              " + shipment_('Factory_I',_'Bed',_'Brazil')\n",
              " + shipment_('Factory_I',_'Bed',_'Sweden')\n",
              " + shipment_('Factory_I',_'Chair',_'Australia')\n",
              " + shipment_('Factory_I',_'Chair',_'Brazil')\n",
              " + shipment_('Factory_I',_'Chair',_'Sweden')\n",
              " + shipment_('Factory_I',_'Tables',_'Australia')\n",
              " + shipment_('Factory_I',_'Tables',_'Brazil')\n",
              " + shipment_('Factory_I',_'Tables',_'Sweden') <= 1500\n",
              "\n",
              "_C2: shipment_('Factory_II',_'Bed',_'Australia')\n",
              " + shipment_('Factory_II',_'Bed',_'Brazil')\n",
              " + shipment_('Factory_II',_'Bed',_'Sweden')\n",
              " + shipment_('Factory_II',_'Chair',_'Australia')\n",
              " + shipment_('Factory_II',_'Chair',_'Brazil')\n",
              " + shipment_('Factory_II',_'Chair',_'Sweden')\n",
              " + shipment_('Factory_II',_'Tables',_'Australia')\n",
              " + shipment_('Factory_II',_'Tables',_'Brazil')\n",
              " + shipment_('Factory_II',_'Tables',_'Sweden') <= 2500\n",
              "\n",
              "_C3: shipment_('Factory_I',_'Chair',_'Australia')\n",
              " + shipment_('Factory_II',_'Chair',_'Australia') >= 90\n",
              "\n",
              "_C4: shipment_('Factory_I',_'Tables',_'Australia')\n",
              " + shipment_('Factory_II',_'Tables',_'Australia') >= 65\n",
              "\n",
              "_C5: shipment_('Factory_I',_'Bed',_'Australia')\n",
              " + shipment_('Factory_II',_'Bed',_'Australia') >= 700\n",
              "\n",
              "_C6: shipment_('Factory_I',_'Chair',_'Sweden')\n",
              " + shipment_('Factory_II',_'Chair',_'Sweden') >= 120\n",
              "\n",
              "_C7: shipment_('Factory_I',_'Tables',_'Sweden')\n",
              " + shipment_('Factory_II',_'Tables',_'Sweden') >= 450\n",
              "\n",
              "_C8: shipment_('Factory_I',_'Bed',_'Sweden')\n",
              " + shipment_('Factory_II',_'Bed',_'Sweden') >= 40\n",
              "\n",
              "_C9: shipment_('Factory_I',_'Chair',_'Brazil')\n",
              " + shipment_('Factory_II',_'Chair',_'Brazil') >= 78\n",
              "\n",
              "_C10: shipment_('Factory_I',_'Tables',_'Brazil')\n",
              " + shipment_('Factory_II',_'Tables',_'Brazil') >= 52\n",
              "\n",
              "_C11: shipment_('Factory_I',_'Bed',_'Brazil')\n",
              " + shipment_('Factory_II',_'Bed',_'Brazil') >= 500\n",
              "\n",
              "VARIABLES\n",
              "0 <= shipment_('Factory_I',_'Bed',_'Australia') Integer\n",
              "0 <= shipment_('Factory_I',_'Bed',_'Brazil') Integer\n",
              "0 <= shipment_('Factory_I',_'Bed',_'Sweden') Integer\n",
              "0 <= shipment_('Factory_I',_'Chair',_'Australia') Integer\n",
              "0 <= shipment_('Factory_I',_'Chair',_'Brazil') Integer\n",
              "0 <= shipment_('Factory_I',_'Chair',_'Sweden') Integer\n",
              "0 <= shipment_('Factory_I',_'Tables',_'Australia') Integer\n",
              "0 <= shipment_('Factory_I',_'Tables',_'Brazil') Integer\n",
              "0 <= shipment_('Factory_I',_'Tables',_'Sweden') Integer\n",
              "0 <= shipment_('Factory_II',_'Bed',_'Australia') Integer\n",
              "0 <= shipment_('Factory_II',_'Bed',_'Brazil') Integer\n",
              "0 <= shipment_('Factory_II',_'Bed',_'Sweden') Integer\n",
              "0 <= shipment_('Factory_II',_'Chair',_'Australia') Integer\n",
              "0 <= shipment_('Factory_II',_'Chair',_'Brazil') Integer\n",
              "0 <= shipment_('Factory_II',_'Chair',_'Sweden') Integer\n",
              "0 <= shipment_('Factory_II',_'Tables',_'Australia') Integer\n",
              "0 <= shipment_('Factory_II',_'Tables',_'Brazil') Integer\n",
              "0 <= shipment_('Factory_II',_'Tables',_'Sweden') Integer\n",
              ">"
            ]
          },
          "metadata": {},
          "execution_count": 15
        }
      ]
    },
    {
      "cell_type": "code",
      "source": [
        "model.solve()"
      ],
      "metadata": {
        "colab": {
          "base_uri": "https://localhost:8080/"
        },
        "id": "pFcvCZ9bfyL-",
        "outputId": "46809f0b-5693-4553-88d8-52817dfc28ee"
      },
      "execution_count": 16,
      "outputs": [
        {
          "output_type": "execute_result",
          "data": {
            "text/plain": [
              "1"
            ]
          },
          "metadata": {},
          "execution_count": 16
        }
      ]
    },
    {
      "cell_type": "code",
      "source": [
        "value(model.objective)"
      ],
      "metadata": {
        "colab": {
          "base_uri": "https://localhost:8080/"
        },
        "id": "GjatP_Mcf24S",
        "outputId": "b80208cf-03ca-4be9-84c3-35067e697eb8"
      },
      "execution_count": 17,
      "outputs": [
        {
          "output_type": "execute_result",
          "data": {
            "text/plain": [
              "135220.0"
            ]
          },
          "metadata": {},
          "execution_count": 17
        }
      ]
    }
  ]
}