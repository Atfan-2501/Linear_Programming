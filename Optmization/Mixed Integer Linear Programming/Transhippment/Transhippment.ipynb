{
  "nbformat": 4,
  "nbformat_minor": 0,
  "metadata": {
    "colab": {
      "provenance": []
    },
    "kernelspec": {
      "name": "python3",
      "display_name": "Python 3"
    },
    "language_info": {
      "name": "python"
    }
  },
  "cells": [
    {
      "cell_type": "markdown",
      "source": [
        "A fast food restaurant chain needs to ship foods from two suppliers (node 1 and 2 ) to the distribution centers (node 5 and 6). Shipments can be made directly or through 2 warehouses (node 3 and 4). At most 100 tons can be shipped between any two nodes. Supplier capacities are 160 tons and 200 tons respectively and distribution center demands are 180 tons each. Shipping cost tons of each route are given in the table below. \n",
        "\n",
        "\n",
        "\n",
        "|      | To |    |    |    |\n",
        "|------|----|----|----|----|\n",
        "| From |  3 |  4 |  5 |  6 |\n",
        "|   1  |  8 | 13 | 25 | 28 |\n",
        "|   2  | 15 | 12 | 26 | 25 |\n",
        "|   3  |    |  6 | 16 | 17 |\n",
        "|   4  |  6 |    | 14 | 16 |"
      ],
      "metadata": {
        "id": "3RQnAxFzRZMY"
      }
    },
    {
      "cell_type": "code",
      "execution_count": 26,
      "metadata": {
        "colab": {
          "base_uri": "https://localhost:8080/"
        },
        "id": "3xzK74Y4RX4i",
        "outputId": "b022064f-a194-4d10-ab3f-00bbfcdbcc1f"
      },
      "outputs": [
        {
          "output_type": "stream",
          "name": "stdout",
          "text": [
            "Looking in indexes: https://pypi.org/simple, https://us-python.pkg.dev/colab-wheels/public/simple/\n",
            "Requirement already satisfied: pulp in /usr/local/lib/python3.10/dist-packages (2.7.0)\n"
          ]
        }
      ],
      "source": [
        "pip install pulp"
      ]
    },
    {
      "cell_type": "code",
      "source": [
        "from pulp import *"
      ],
      "metadata": {
        "id": "Pjsmzm-GRwV6"
      },
      "execution_count": 27,
      "outputs": []
    },
    {
      "cell_type": "markdown",
      "source": [
        "Model initialization"
      ],
      "metadata": {
        "id": "qkwlFQzDR5Vf"
      }
    },
    {
      "cell_type": "code",
      "source": [
        "model = LpProblem(\"Transhippment_Problem\",LpMinimize)"
      ],
      "metadata": {
        "id": "UyVfKpvMRzIt"
      },
      "execution_count": 28,
      "outputs": []
    },
    {
      "cell_type": "markdown",
      "source": [
        "**Formulating the problem**"
      ],
      "metadata": {
        "id": "i3a7T8l_SM8O"
      }
    },
    {
      "cell_type": "markdown",
      "source": [
        "**Supply nodes** : 1 and 2                             \n",
        "**Intermedite/Transient nodes** : 3 and 4                         \n",
        "**Destination nodes** : 5 and 6"
      ],
      "metadata": {
        "id": "NdJ85KsjS0pk"
      }
    },
    {
      "cell_type": "code",
      "source": [
        "supply_nodes = [i for i in range(1, 5)]\n",
        "destination_nodes = [i for i in range (3, 7)]"
      ],
      "metadata": {
        "id": "31jPKgUTSH46"
      },
      "execution_count": 29,
      "outputs": []
    },
    {
      "cell_type": "code",
      "source": [
        "shipment_route = [(i, j) for i in supply_nodes for j in destination_nodes]"
      ],
      "metadata": {
        "id": "Q0Q-I7OWStIU"
      },
      "execution_count": 30,
      "outputs": []
    },
    {
      "cell_type": "code",
      "source": [
        "route_decision_var = LpVariable.dicts(\"route_decision\", shipment_route, 0, None, \"Integer\")"
      ],
      "metadata": {
        "id": "6-f5P3rjT4Wk"
      },
      "execution_count": 31,
      "outputs": []
    },
    {
      "cell_type": "code",
      "source": [
        "route_available = [1, 1, 1, 1,\n",
        "                   1, 1, 1, 1,\n",
        "                   0, 1, 1, 1,\n",
        "                   1, 0, 1, 1]\n",
        "\n",
        "route_cost = [8, 13, 25, 28,\n",
        "              15, 12, 26, 25,\n",
        "              0, 6, 16, 17,\n",
        "              6, 0, 14, 16]\n",
        "\n",
        "supplier_capacities = [160, 200]\n",
        "\n",
        "destination_demand = [180, 180]"
      ],
      "metadata": {
        "id": "TP8-eW3EUF3l"
      },
      "execution_count": 32,
      "outputs": []
    },
    {
      "cell_type": "code",
      "source": [
        "availability_mapped = dict(zip(shipment_route, route_available))\n",
        "cost_mapped = dict(zip(shipment_route, route_cost))\n",
        "capacities_mapped = dict(zip(list(set(supply_nodes) - set(destination_nodes)), supplier_capacities))\n",
        "demand_mapped = dict(zip(list(set(destination_nodes) - set(supply_nodes)), destination_demand))"
      ],
      "metadata": {
        "id": "_kALpUvFU9IL"
      },
      "execution_count": 33,
      "outputs": []
    },
    {
      "cell_type": "markdown",
      "source": [
        "Defining the Objective Function"
      ],
      "metadata": {
        "id": "WSwz9KPxV5ci"
      }
    },
    {
      "cell_type": "code",
      "source": [
        "model += lpSum(route_decision_var[(i, j)] * cost_mapped[(i, j)] for i in supply_nodes for j in destination_nodes)"
      ],
      "metadata": {
        "id": "0G1qOtLpV0ka"
      },
      "execution_count": 34,
      "outputs": []
    },
    {
      "cell_type": "markdown",
      "source": [
        "Adding the constraints"
      ],
      "metadata": {
        "id": "Ql3rUtoqWZL1"
      }
    },
    {
      "cell_type": "markdown",
      "source": [
        "1. Supply from the supply nodes <= Supplier capacities"
      ],
      "metadata": {
        "id": "Uer-aUIkWd05"
      }
    },
    {
      "cell_type": "code",
      "source": [
        "for i in supply_nodes:\n",
        "  if i not in destination_nodes:\n",
        "    model+= lpSum(route_decision_var[(i, j)]* availability_mapped[(i, j)] for j in destination_nodes) <= capacities_mapped[i]"
      ],
      "metadata": {
        "id": "cq9p2I0NWYak"
      },
      "execution_count": 35,
      "outputs": []
    },
    {
      "cell_type": "markdown",
      "source": [
        "2. Supply to the final destination nodes >= Destination Demand"
      ],
      "metadata": {
        "id": "URv78W1oXG13"
      }
    },
    {
      "cell_type": "code",
      "source": [
        "for j in destination_nodes:\n",
        "  if j not in supply_nodes:\n",
        "    model+= lpSum(route_decision_var[(i, j)]* availability_mapped[(i, j)] for i in supply_nodes) >= demand_mapped[j]"
      ],
      "metadata": {
        "id": "IizM95xpXCMX"
      },
      "execution_count": 36,
      "outputs": []
    },
    {
      "cell_type": "markdown",
      "source": [
        "3. At Intermediate nodes:                    \n",
        "     Inflow = Outflow"
      ],
      "metadata": {
        "id": "fnqzRqKEXiai"
      }
    },
    {
      "cell_type": "code",
      "source": [
        "for i in supply_nodes:\n",
        "  if i in destination_nodes:\n",
        "    model+= lpSum(route_decision_var[(j, i)] for j in supply_nodes) == lpSum(route_decision_var[(i, j)] for j in destination_nodes)"
      ],
      "metadata": {
        "id": "vn2Fx0bpXhDK"
      },
      "execution_count": 37,
      "outputs": []
    },
    {
      "cell_type": "markdown",
      "source": [
        "4. Each route capacity = 100"
      ],
      "metadata": {
        "id": "9F2ZwKz6Ycuv"
      }
    },
    {
      "cell_type": "code",
      "source": [
        "for i in supply_nodes:\n",
        "  for j in destination_nodes:\n",
        "    model += route_decision_var[(i, j)] <= 100"
      ],
      "metadata": {
        "id": "bqW_oLr8YbiK"
      },
      "execution_count": 38,
      "outputs": []
    },
    {
      "cell_type": "markdown",
      "source": [
        "Solution and Interpretation"
      ],
      "metadata": {
        "id": "5zXA9dWKYsiL"
      }
    },
    {
      "cell_type": "code",
      "source": [
        "model.solve"
      ],
      "metadata": {
        "colab": {
          "base_uri": "https://localhost:8080/"
        },
        "id": "R2UuokIBYrAj",
        "outputId": "d06c6fc6-22fb-4a0a-eb14-ce5fbc0daf73"
      },
      "execution_count": 39,
      "outputs": [
        {
          "output_type": "execute_result",
          "data": {
            "text/plain": [
              "<bound method LpProblem.solve of Transhippment_Problem:\n",
              "MINIMIZE\n",
              "8*route_decision_(1,_3) + 13*route_decision_(1,_4) + 25*route_decision_(1,_5) + 28*route_decision_(1,_6) + 15*route_decision_(2,_3) + 12*route_decision_(2,_4) + 26*route_decision_(2,_5) + 25*route_decision_(2,_6) + 6*route_decision_(3,_4) + 16*route_decision_(3,_5) + 17*route_decision_(3,_6) + 6*route_decision_(4,_3) + 14*route_decision_(4,_5) + 16*route_decision_(4,_6) + 0\n",
              "SUBJECT TO\n",
              "_C1: route_decision_(1,_3) + route_decision_(1,_4) + route_decision_(1,_5)\n",
              " + route_decision_(1,_6) <= 160\n",
              "\n",
              "_C2: route_decision_(2,_3) + route_decision_(2,_4) + route_decision_(2,_5)\n",
              " + route_decision_(2,_6) <= 200\n",
              "\n",
              "_C3: route_decision_(1,_5) + route_decision_(2,_5) + route_decision_(3,_5)\n",
              " + route_decision_(4,_5) >= 180\n",
              "\n",
              "_C4: route_decision_(1,_6) + route_decision_(2,_6) + route_decision_(3,_6)\n",
              " + route_decision_(4,_6) >= 180\n",
              "\n",
              "_C5: route_decision_(1,_3) + route_decision_(2,_3) + 0 route_decision_(3,_3)\n",
              " - route_decision_(3,_4) - route_decision_(3,_5) - route_decision_(3,_6)\n",
              " + route_decision_(4,_3) = 0\n",
              "\n",
              "_C6: route_decision_(1,_4) + route_decision_(2,_4) + route_decision_(3,_4)\n",
              " - route_decision_(4,_3) + 0 route_decision_(4,_4) - route_decision_(4,_5)\n",
              " - route_decision_(4,_6) = 0\n",
              "\n",
              "_C7: route_decision_(1,_3) <= 100\n",
              "\n",
              "_C8: route_decision_(1,_4) <= 100\n",
              "\n",
              "_C9: route_decision_(1,_5) <= 100\n",
              "\n",
              "_C10: route_decision_(1,_6) <= 100\n",
              "\n",
              "_C11: route_decision_(2,_3) <= 100\n",
              "\n",
              "_C12: route_decision_(2,_4) <= 100\n",
              "\n",
              "_C13: route_decision_(2,_5) <= 100\n",
              "\n",
              "_C14: route_decision_(2,_6) <= 100\n",
              "\n",
              "_C15: route_decision_(3,_3) <= 100\n",
              "\n",
              "_C16: route_decision_(3,_4) <= 100\n",
              "\n",
              "_C17: route_decision_(3,_5) <= 100\n",
              "\n",
              "_C18: route_decision_(3,_6) <= 100\n",
              "\n",
              "_C19: route_decision_(4,_3) <= 100\n",
              "\n",
              "_C20: route_decision_(4,_4) <= 100\n",
              "\n",
              "_C21: route_decision_(4,_5) <= 100\n",
              "\n",
              "_C22: route_decision_(4,_6) <= 100\n",
              "\n",
              "VARIABLES\n",
              "0 <= route_decision_(1,_3) Integer\n",
              "0 <= route_decision_(1,_4) Integer\n",
              "0 <= route_decision_(1,_5) Integer\n",
              "0 <= route_decision_(1,_6) Integer\n",
              "0 <= route_decision_(2,_3) Integer\n",
              "0 <= route_decision_(2,_4) Integer\n",
              "0 <= route_decision_(2,_5) Integer\n",
              "0 <= route_decision_(2,_6) Integer\n",
              "0 <= route_decision_(3,_3) Integer\n",
              "0 <= route_decision_(3,_4) Integer\n",
              "0 <= route_decision_(3,_5) Integer\n",
              "0 <= route_decision_(3,_6) Integer\n",
              "0 <= route_decision_(4,_3) Integer\n",
              "0 <= route_decision_(4,_4) Integer\n",
              "0 <= route_decision_(4,_5) Integer\n",
              "0 <= route_decision_(4,_6) Integer\n",
              ">"
            ]
          },
          "metadata": {},
          "execution_count": 39
        }
      ]
    },
    {
      "cell_type": "code",
      "source": [
        "model.solve()"
      ],
      "metadata": {
        "colab": {
          "base_uri": "https://localhost:8080/"
        },
        "id": "b1Ed2dCvYxTb",
        "outputId": "7c76a8af-e513-4b98-ca08-88ccc023c2c1"
      },
      "execution_count": 40,
      "outputs": [
        {
          "output_type": "execute_result",
          "data": {
            "text/plain": [
              "1"
            ]
          },
          "metadata": {},
          "execution_count": 40
        }
      ]
    },
    {
      "cell_type": "code",
      "source": [
        "value(model.objective)"
      ],
      "metadata": {
        "colab": {
          "base_uri": "https://localhost:8080/"
        },
        "id": "wNm4nImTYzjf",
        "outputId": "8b042666-832f-498a-e17c-62c2c1e7c992"
      },
      "execution_count": 41,
      "outputs": [
        {
          "output_type": "execute_result",
          "data": {
            "text/plain": [
              "9080.0"
            ]
          },
          "metadata": {},
          "execution_count": 41
        }
      ]
    },
    {
      "cell_type": "code",
      "source": [
        "for i in route_decision_var:\n",
        "  print(f\"{i} qty {route_decision_var[i].varValue}\")"
      ],
      "metadata": {
        "colab": {
          "base_uri": "https://localhost:8080/"
        },
        "id": "2BY8CUD7Y2JI",
        "outputId": "e4b7e309-fd57-4f88-b5d6-431b60fe5cfd"
      },
      "execution_count": 42,
      "outputs": [
        {
          "output_type": "stream",
          "name": "stdout",
          "text": [
            "(1, 3) qty 100.0\n",
            "(1, 4) qty 0.0\n",
            "(1, 5) qty 60.0\n",
            "(1, 6) qty 0.0\n",
            "(2, 3) qty 0.0\n",
            "(2, 4) qty 100.0\n",
            "(2, 5) qty 0.0\n",
            "(2, 6) qty 100.0\n",
            "(3, 3) qty 0.0\n",
            "(3, 4) qty 0.0\n",
            "(3, 5) qty 20.0\n",
            "(3, 6) qty 80.0\n",
            "(4, 3) qty 0.0\n",
            "(4, 4) qty 0.0\n",
            "(4, 5) qty 100.0\n",
            "(4, 6) qty 0.0\n"
          ]
        }
      ]
    }
  ]
}