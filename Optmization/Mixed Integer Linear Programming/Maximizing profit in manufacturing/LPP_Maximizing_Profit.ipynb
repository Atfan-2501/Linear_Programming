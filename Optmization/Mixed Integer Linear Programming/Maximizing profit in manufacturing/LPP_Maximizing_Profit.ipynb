{
  "nbformat": 4,
  "nbformat_minor": 0,
  "metadata": {
    "colab": {
      "provenance": []
    },
    "kernelspec": {
      "name": "python3",
      "display_name": "Python 3"
    },
    "language_info": {
      "name": "python"
    }
  },
  "cells": [
    {
      "cell_type": "markdown",
      "source": [
        "Case: Linear Programming for maximizing profits under the given constraints\n",
        "\n",
        "A pillow manufacturer produces 2 types of pillows that takes a mix of feather and cotton. The requirement of two products are as follows.\n",
        "\n",
        "Pillow A: 400gm feather , 200 gm cotton and 300 gm silk.                             \n",
        "Pillow B: 700gm feather , 500 gm cotton and 300 gm silk.                      \n",
        "Pillow C: 400gm feather , 600 gm cotton and 200 gm silk.\n",
        "\n",
        "Supply available for feather , silk and cotton are 40 kilos each.\n",
        "\n",
        "Profit on A: 33 USD per pillow.\n",
        "Profit on B: 40 USD per pillow.\n",
        "Profit on C: 34 USD per pillow.\n",
        "\n",
        "How many units the manufacturer should produce to maximize profit."
      ],
      "metadata": {
        "id": "c9D0fcFTIucZ"
      }
    },
    {
      "cell_type": "code",
      "execution_count": null,
      "metadata": {
        "id": "HCg1LZ-Q2RF4"
      },
      "outputs": [],
      "source": [
        "pip install pulp"
      ]
    },
    {
      "cell_type": "code",
      "source": [
        "from pulp import *"
      ],
      "metadata": {
        "id": "4un4H5Jq2U3D"
      },
      "execution_count": 1,
      "outputs": []
    },
    {
      "cell_type": "markdown",
      "source": [
        "Creating the model instance"
      ],
      "metadata": {
        "id": "NFZ7nH4PJC7D"
      }
    },
    {
      "cell_type": "code",
      "source": [
        "model = LpProblem(\"Maximizing_Profit\", LpMaximize)"
      ],
      "metadata": {
        "id": "SN_yxfWbITu7"
      },
      "execution_count": 2,
      "outputs": []
    },
    {
      "cell_type": "markdown",
      "source": [
        "Defining the variables"
      ],
      "metadata": {
        "id": "8IFaO2IJIqdB"
      }
    },
    {
      "cell_type": "code",
      "source": [
        "x1 = LpVariable(\"x1\", 1, None, 'Integer')\n",
        "x2 = LpVariable(\"x2\", 1, None, 'Integer')\n",
        "x3 = LpVariable(\"x3\", 1, None, 'Integer')"
      ],
      "metadata": {
        "id": "f5MqbVJ5InUC"
      },
      "execution_count": 3,
      "outputs": []
    },
    {
      "cell_type": "markdown",
      "source": [
        "Defining the objective function"
      ],
      "metadata": {
        "id": "TDvIZ_UBLTaQ"
      }
    },
    {
      "cell_type": "code",
      "source": [
        "model += x1 *33 + x2 *40 + x3 *34"
      ],
      "metadata": {
        "id": "wr7cuOC1LXBo"
      },
      "execution_count": 4,
      "outputs": []
    },
    {
      "cell_type": "markdown",
      "source": [
        "Adding Constraints"
      ],
      "metadata": {
        "id": "W4AyXQX9LNSr"
      }
    },
    {
      "cell_type": "code",
      "source": [
        "model += x1 * 0.4 + x2 * 0.7 + x3 * 0.4 <= 40\n",
        "model += x1 * 0.2 + x2 * 0.5 + x3 * 0.6 <= 40\n",
        "model += x1 * 0.3 + x2 * 0.3 + x3 * 0.2 <= 40"
      ],
      "metadata": {
        "id": "6XBbQOXrLLCj"
      },
      "execution_count": 5,
      "outputs": []
    },
    {
      "cell_type": "code",
      "source": [
        "model.solve()"
      ],
      "metadata": {
        "colab": {
          "base_uri": "https://localhost:8080/"
        },
        "id": "rfDlByQRUItY",
        "outputId": "16289030-2645-4e32-8c85-42a55cea20c7"
      },
      "execution_count": 15,
      "outputs": [
        {
          "output_type": "execute_result",
          "data": {
            "text/plain": [
              "1"
            ]
          },
          "metadata": {},
          "execution_count": 15
        }
      ]
    },
    {
      "cell_type": "code",
      "source": [
        "model"
      ],
      "metadata": {
        "colab": {
          "base_uri": "https://localhost:8080/"
        },
        "id": "YqXvsFwDVghq",
        "outputId": "b1750445-b884-4c26-ca2b-99a30e6da347"
      },
      "execution_count": 17,
      "outputs": [
        {
          "output_type": "execute_result",
          "data": {
            "text/plain": [
              "Maximizing_Profit:\n",
              "MAXIMIZE\n",
              "33*x1 + 40*x2 + 34*x3 + 0\n",
              "SUBJECT TO\n",
              "_C1: 0.4 x1 + 0.7 x2 + 0.4 x3 <= 40\n",
              "\n",
              "_C2: 0.2 x1 + 0.5 x2 + 0.6 x3 <= 40\n",
              "\n",
              "_C3: 0.3 x1 + 0.3 x2 + 0.2 x3 <= 40\n",
              "\n",
              "VARIABLES\n",
              "1 <= x1 Integer\n",
              "1 <= x2 Integer\n",
              "1 <= x3 Integer"
            ]
          },
          "metadata": {},
          "execution_count": 17
        }
      ]
    },
    {
      "cell_type": "code",
      "source": [
        "LpStatus[model.status]"
      ],
      "metadata": {
        "colab": {
          "base_uri": "https://localhost:8080/",
          "height": 36
        },
        "id": "MqxVv5pfYBGg",
        "outputId": "1449d81f-26b3-4028-92fc-bac61a906400"
      },
      "execution_count": 19,
      "outputs": [
        {
          "output_type": "execute_result",
          "data": {
            "text/plain": [
              "'Optimal'"
            ],
            "application/vnd.google.colaboratory.intrinsic+json": {
              "type": "string"
            }
          },
          "metadata": {},
          "execution_count": 19
        }
      ]
    },
    {
      "cell_type": "code",
      "source": [
        "for variable in model.variables():\n",
        "    print (\"{} = {}\".format(variable.name, variable.varValue))"
      ],
      "metadata": {
        "colab": {
          "base_uri": "https://localhost:8080/"
        },
        "id": "bYVxqBPJcfOM",
        "outputId": "3f5106aa-30ae-4c7f-8e0f-512e76b05918"
      },
      "execution_count": 22,
      "outputs": [
        {
          "output_type": "stream",
          "name": "stdout",
          "text": [
            "x1 = 49.0\n",
            "x2 = 1.0\n",
            "x3 = 49.0\n"
          ]
        }
      ]
    },
    {
      "cell_type": "code",
      "source": [
        "value(model.objective)"
      ],
      "metadata": {
        "colab": {
          "base_uri": "https://localhost:8080/"
        },
        "id": "CQ98RmxGcrDl",
        "outputId": "3e432771-abeb-4629-fd57-366df5e5c4a8"
      },
      "execution_count": 25,
      "outputs": [
        {
          "output_type": "execute_result",
          "data": {
            "text/plain": [
              "3323.0"
            ]
          },
          "metadata": {},
          "execution_count": 25
        }
      ]
    }
  ]
}